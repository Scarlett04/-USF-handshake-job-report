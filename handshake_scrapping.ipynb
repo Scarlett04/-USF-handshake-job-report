{
 "cells": [
  {
   "cell_type": "code",
   "execution_count": null,
   "metadata": {},
   "outputs": [],
   "source": [
    "from selenium import webdriver\n",
    "from selenium.webdriver.chrome.options import Options\n",
    "\n",
    "\n",
    "from selenium.webdriver.support.ui import WebDriverWait\n",
    "from selenium.webdriver.common.by import By\n",
    "from selenium.webdriver.support import expected_conditions as EC\n",
    "\n",
    "\n",
    "import time\n",
    "from selenium.webdriver.common.keys import Keys\n",
    "\n",
    "# data manipulate library\n",
    "import pandas as pd\n",
    "\n",
    "import csv\n",
    "\n",
    "# address\n",
    "from geopy.geocoders import Nominatim\n",
    "\n",
    "from win10toast import ToastNotifier"
   ]
  },
  {
   "cell_type": "code",
   "execution_count": null,
   "metadata": {},
   "outputs": [],
   "source": [
    "chrome_options = Options()\n",
    "chrome_options.add_experimental_option(\"debuggerAddress\",\"localhost:8000\")\n",
    "driver = webdriver.Chrome(executable_path=\"chromedriver.exe\", chrome_options=chrome_options)\n",
    "\n",
    "# cmd command:\n",
    "# chrome.exe --remote-debugging-port=8000 --user-data-dir=\"D:\\Chromedata\""
   ]
  },
  {
   "cell_type": "code",
   "execution_count": null,
   "metadata": {},
   "outputs": [],
   "source": [
    "# Xpath: Basic Job and Company Information\n",
    "'''\n",
    "Job Card = job-preview style__details___paBkq\n",
    "Job_Title           = //*[@id=\"skip-to-content\"]/div[3]/div/div[1]/div/form/div[2]/div/div/div[2]/div[1]/div[1]/h1\n",
    "Job_Info            = //*[@id=\"skip-to-content\"]/div[3]/div/div[1]/div/form/div[2]/div/div/div[2]/div[1]/div[1]/div[1]\n",
    "Company_Name        = //*[@id=\"skip-to-content\"]/div[3]/div/div[1]/div/form/div[2]/div/div/div[2]/div[1]/div[1]/div[2]/div/div[2]/a\n",
    "Company_Location    = //*[@id=\"skip-to-content\"]/div[3]/div/div[1]/div/form/div[2]/div/div/div[2]/div[1]/div[1]/div[2]/div/div[2]/div/div\n",
    "Container           = //*[@id=\"skip-to-content\"]/div[3]/div/div[1]/div/form/div[2]/div/div/div[2]/div[1]/div[1]\n",
    "'''\n",
    "\n",
    "# Class: Basic Job and Company Information\n",
    "'''\n",
    "Job_Title           = style__job-title___P7PJV\n",
    "Job_Info            = style__job-type-info___MJ8oT\n",
    "Company_Name        = style__employer-name___54lqg\n",
    "Company_Location    = style__list-with-tooltip___Js1g4\n",
    "'''"
   ]
  },
  {
   "cell_type": "code",
   "execution_count": null,
   "metadata": {},
   "outputs": [],
   "source": [
    "# General Information\n",
    "general_information_keys = ['Job Title', 'Job Info', 'Company Name', 'Company Location']\n",
    "\n",
    "def get_general_information():\n",
    "    job_title = driver.find_element(By.CLASS_NAME, 'style__job-title___P7PJV').text   \n",
    "    job_info = driver.find_element(By.CLASS_NAME, 'style__job-type-info___MJ8oT').text\n",
    "    company_name = driver.find_element(By.CLASS_NAME, 'style__employer-name___54lqg').text\n",
    "    \n",
    "    try: \n",
    "        company_location = driver.find_element(By.CLASS_NAME, 'style__list-with-tooltip___Js1g4').text\n",
    "        if 'more' in company_location:\n",
    "            text = driver.find_element(By.CLASS_NAME, 'style__list-with-tooltip___Js1g4').get_attribute('title')\n",
    "            company_location = ('\\n').join(text.split(' - '))\n",
    "    except:\n",
    "        company_location = driver.find_element(By.CLASS_NAME, 'style__media-body___MV2ef').text.split('∙')[1]\n",
    "\n",
    "    return pd.Series([job_title, job_info, company_name, company_location], index=general_information_keys).to_frame()"
   ]
  },
  {
   "cell_type": "code",
   "execution_count": null,
   "metadata": {},
   "outputs": [],
   "source": [
    "# Company Information\n",
    "company_information_keys = ['Employees', 'Industry', 'Headquarters']\n",
    "\n",
    "def get_company_information():\n",
    "    info = driver.find_elements(By.CLASS_NAME, 'style__content___sE2EK')\n",
    "    employees = info[0].text\n",
    "    industry = info[1].text\n",
    "    headquarters = info[2].text\n",
    "    return pd.Series([employees, industry, headquarters], index=company_information_keys).to_frame()"
   ]
  },
  {
   "cell_type": "code",
   "execution_count": null,
   "metadata": {},
   "outputs": [],
   "source": [
    "# About the Role\n",
    "'''\n",
    "class = style__col___5FTI6\n",
    "title = style__title___5XGGK\n",
    "content = style__content___w3TUd\n",
    "'''"
   ]
  },
  {
   "cell_type": "code",
   "execution_count": null,
   "metadata": {},
   "outputs": [],
   "source": [
    "# Card Title\n",
    "def get_card_titles():\n",
    "    card_titles = driver.find_elements(By.CLASS_NAME, \"style__title___5XGGK\")\n",
    "    card_title = []\n",
    "    for i in range(len(card_titles)):\n",
    "        title = card_titles[i].text\n",
    "        card_title.append(title)\n",
    "    return card_title"
   ]
  },
  {
   "cell_type": "code",
   "execution_count": null,
   "metadata": {},
   "outputs": [],
   "source": [
    "# Card Content\n",
    "def get_card_content():\n",
    "    card_contents = driver.find_elements(By.CLASS_NAME, \"style__content___w3TUd\")\n",
    "    card_content = []\n",
    "    for i in range(len(card_contents)):\n",
    "        content = card_contents[i].text\n",
    "        card_content.append(content)\n",
    "    return card_content"
   ]
  },
  {
   "cell_type": "code",
   "execution_count": null,
   "metadata": {},
   "outputs": [],
   "source": [
    "# Go to next page\n",
    "def next_page():\n",
    "    next_page_button = driver.find_element(By.XPATH, '//button[@aria-label=\"next page\"]')\n",
    "    next_page_button.click()\n",
    "    time.sleep(20)"
   ]
  },
  {
   "cell_type": "code",
   "execution_count": null,
   "metadata": {},
   "outputs": [],
   "source": [
    "def print_case(page, case, df=None):\n",
    "    width = 50\n",
    "    print((f'Page {page}: Case {case}').center(width, '-'))\n",
    "    print(df)\n",
    "    print('-'*width)"
   ]
  },
  {
   "cell_type": "code",
   "execution_count": null,
   "metadata": {},
   "outputs": [],
   "source": [
    "def refresh():\n",
    "    driver.refresh()\n",
    "    time.sleep(10)"
   ]
  },
  {
   "cell_type": "code",
   "execution_count": null,
   "metadata": {},
   "outputs": [],
   "source": [
    "def main_program(trial=1):\n",
    "    total = 0\n",
    "    page = 1\n",
    "    count = 0\n",
    "    rest = 0\n",
    "    data = pd.DataFrame()\n",
    "\n",
    "    try:\n",
    "        while True:\n",
    "            if page > trial:\n",
    "                data.to_csv('output/output.csv', mode='a', encoding='utf-8', index=False)\n",
    "                print(\"Total successful cases: \" + str(total))\n",
    "                break\n",
    "            \n",
    "            if rest > 5:\n",
    "                refresh()\n",
    "                rest = 0\n",
    "\n",
    "            job_cards = driver.find_elements(By.XPATH, '//div/a[@data-hook=\"jobs-card\"]')\n",
    "            \n",
    "            for job_card in job_cards:\n",
    "                job_card.click()\n",
    "                time.sleep(2)\n",
    "\n",
    "                # General Information\n",
    "                try:\n",
    "                    job_info = get_general_information()\n",
    "                except:\n",
    "                    print(\"Error: General Information\")\n",
    "\n",
    "                # Company Information\n",
    "                try:\n",
    "                    company_info = get_company_information()\n",
    "                except:\n",
    "                    print(\"Error: Company Information\")\n",
    "\n",
    "                # About the Role: Title\n",
    "                try:\n",
    "                    card_titles = get_card_titles()\n",
    "                except:\n",
    "                    print(\"Error: Card Titles\")\n",
    "\n",
    "                # About the Role: Content\n",
    "                try:\n",
    "                    card_contents = get_card_content()\n",
    "                except:\n",
    "                    print(\"Error: Card Contents\")\n",
    "\n",
    "                about_the_role = pd.Series(card_contents, index=card_titles).to_frame()\n",
    "                df = pd.concat([job_info, company_info, about_the_role], axis=0).T\n",
    "                data = pd.concat([data, df], axis=0)\n",
    "\n",
    "                count += 1\n",
    "\n",
    "                print_case(page, count, df.T)\n",
    "            \n",
    "            total += count\n",
    "            next_page()\n",
    "            rest += 1\n",
    "            page += 1\n",
    "            count = 0\n",
    "            \n",
    "    except Exception as e:\n",
    "        print(\"Stop at page \" + str(page) + \" (\" + str(count) + \" cases)\" + \" due to \" + str(e))\n",
    "        data.to_csv('output/output.csv', mode='a', encoding='utf-8', index=False)\n",
    "        print(\"Total successful cases: \" + str(total))"
   ]
  },
  {
   "cell_type": "code",
   "execution_count": null,
   "metadata": {},
   "outputs": [],
   "source": [
    "main_program(50)"
   ]
  }
 ],
 "metadata": {
  "kernelspec": {
   "display_name": "Python 3",
   "language": "python",
   "name": "python3"
  },
  "language_info": {
   "codemirror_mode": {
    "name": "ipython",
    "version": 3
   },
   "file_extension": ".py",
   "mimetype": "text/x-python",
   "name": "python",
   "nbconvert_exporter": "python",
   "pygments_lexer": "ipython3",
   "version": "3.9.0"
  },
  "orig_nbformat": 4
 },
 "nbformat": 4,
 "nbformat_minor": 2
}
